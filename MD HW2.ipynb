{
 "cells": [
  {
   "cell_type": "code",
   "execution_count": 342,
   "id": "12564b85-b574-421f-b446-86a8175db5d0",
   "metadata": {},
   "outputs": [
    {
     "data": {
      "text/plain": [
       "((-59.35133060139624+105.7936974611698j),\n",
       " (61.91864813507467+47.44518857130715j),\n",
       " (-48.32802128805575+67.90914799797264j),\n",
       " (30.947312738677127+56.91057466805037j))"
      ]
     },
     "execution_count": 342,
     "metadata": {},
     "output_type": "execute_result"
    }
   ],
   "source": [
    "import numpy as np\n",
    "\n",
    "deg = np.pi/180\n",
    "\n",
    "#Initial guesses\n",
    "#DYAD A\n",
    "betaa2 = -57 * deg\n",
    "betaa3 = -102 * deg\n",
    "#DYAD B\n",
    "betab2 = -82 * deg\n",
    "betab3 = -140 * deg\n",
    "\n",
    "#from written work\n",
    "alpha2 = -25 *deg\n",
    "alpha3 = -101 *deg\n",
    "delta2 = 133.2 * np.exp(complex(0,-12.58*deg))\n",
    "delta3 = 238.5 * np.exp(complex(0,-51.64*deg))\n",
    "\n",
    "#other components of numerator\n",
    "comp2 = (np.exp(complex(0,alpha2))) - 1\n",
    "comp4 = (np.exp(complex(0,alpha3))) - 1\n",
    "\n",
    "#create w numerator & calculate the det\n",
    "num_a = np.array([[delta2, comp2], [delta3, comp4]])\n",
    "num_b = np.array([[delta2, comp2], [delta3, comp4]])  # If applicable, these can differ\n",
    "det_num_a = np.linalg.det(num_a)\n",
    "det_num_b = np.linalg.det(num_b)\n",
    "\n",
    "#making denominator for w_a\n",
    "wa_11 = np.exp(complex(0,betaa2)) - 1\n",
    "w_12 = np.exp(complex(0,alpha2)) - 1\n",
    "wa_21 = np.exp(complex(0,betaa3)) - 1\n",
    "w_22 = np.exp(complex(0,alpha3)) - 1\n",
    "wa_denom = np.array([[wa_11, w_12], [wa_21, w_22]])\n",
    "det_wa_denom = np.linalg.det(wa_denom)\n",
    "\n",
    "#making denominator for w_b\n",
    "wb_11 = np.exp(complex(0,betab2)) - 1\n",
    "wb_21 = np.exp(complex(0,betab3)) - 1\n",
    "wb_denom = np.array([[wb_11, w_12], [wb_21, w_22]])\n",
    "det_wb_denom = np.linalg.det(wb_denom)\n",
    "\n",
    "#making z_z arrays\n",
    "za_num = np.array([[wa_11, delta2],[wa_21, delta3]])\n",
    "zb_num = np.array([[wb_11, delta2],[wb_21, delta3]])\n",
    "za_denom = np.array([[wa_11, w_12],[wa_21, w_22]])\n",
    "zb_denom = np.array([[wb_11, w_12],[wb_21, w_22]])\n",
    "za_num_det = np.linalg.det(za_num)\n",
    "zb_num_det = np.linalg.det(zb_num)\n",
    "za_denom_det = np.linalg.det(za_denom)\n",
    "zb_denom_det = np.linalg.det(zb_denom)\n",
    "\n",
    "#Final Vectors\n",
    "wa = det_num_a / det_wa_denom\n",
    "za = za_num_det/za_denom_det\n",
    "wb = det_num_b / det_wb_denom\n",
    "zb = zb_num_det/zb_denom_det\n",
    "\n",
    "wa,za,wb,zb"
   ]
  },
  {
   "cell_type": "code",
   "execution_count": 343,
   "id": "ae6c5d17-1b9c-4acb-8868-df3e54ced8fc",
   "metadata": {},
   "outputs": [
    {
     "data": {
      "text/plain": [
       "((-61.91864813507467-47.44518857130715j),\n",
       " (-2.567317533678427-153.23888603247696j),\n",
       " (-30.947312738677127-56.91057466805037j),\n",
       " (17.380708549378625-124.81972266602301j))"
      ]
     },
     "execution_count": 343,
     "metadata": {},
     "output_type": "execute_result"
    }
   ],
   "source": [
    "# Compute the vectors for endpoints\n",
    "a1 = -za\n",
    "ao = -za - wa\n",
    "b1 = -zb\n",
    "bo = -zb - wb\n",
    "a1,ao,b1,bo"
   ]
  },
  {
   "cell_type": "code",
   "execution_count": 344,
   "id": "38129f1f-79bc-4eb8-8f4b-77e16bf1e7a2",
   "metadata": {},
   "outputs": [
    {
     "name": "stdout",
     "output_type": "stream",
     "text": [
      "SUBLIME!\n"
     ]
    },
    {
     "data": {
      "text/plain": [
       "(64.5140343312469, 65.3159253962159, 115.4333958107015, 84.26970266592662)"
      ]
     },
     "execution_count": 344,
     "metadata": {},
     "output_type": "execute_result"
    }
   ],
   "source": [
    "#Find the coordinates of the  as if (0,0) was at the bottom left of the base\n",
    "start_x = 129\n",
    "start_y = 266\n",
    "\n",
    "x_a = start_x + np.real(ao + a1)\n",
    "y_a = start_y + np.imag(ao + a1)\n",
    "x_b = start_x + np.real(bo + b1)\n",
    "y_b = start_y + np.imag(bo + b1)\n",
    "\n",
    "#Check if grounds are in the red square\n",
    "if (0 <= x_a <= 168 and 0 <= y_a <= 180 and \n",
    "    0 <= x_b <= 168 and 0 <= y_b <= 180):\n",
    "    print('SUBLIME!')\n",
    "else:\n",
    "    print('Nope')\n",
    "\n",
    "x_a, y_a, x_b, y_b"
   ]
  },
  {
   "cell_type": "code",
   "execution_count": null,
   "id": "db121194-aada-4b45-add5-47d2ef934087",
   "metadata": {},
   "outputs": [],
   "source": []
  },
  {
   "cell_type": "code",
   "execution_count": null,
   "id": "2f87de7e-749e-4574-ab55-9c5d2b5bdc0f",
   "metadata": {},
   "outputs": [],
   "source": []
  },
  {
   "cell_type": "code",
   "execution_count": null,
   "id": "4cdfa007-11ae-47d7-b81a-4a891463deaf",
   "metadata": {},
   "outputs": [],
   "source": []
  },
  {
   "cell_type": "code",
   "execution_count": null,
   "id": "81db3f19-b7c0-4f11-ac13-d7825fc9dc0b",
   "metadata": {},
   "outputs": [],
   "source": []
  },
  {
   "cell_type": "code",
   "execution_count": null,
   "id": "25e5e225-5fac-424a-bf05-3091acafe621",
   "metadata": {},
   "outputs": [],
   "source": []
  },
  {
   "cell_type": "code",
   "execution_count": null,
   "id": "4ab5f5c0-b61a-4522-99fa-64a16083a835",
   "metadata": {},
   "outputs": [],
   "source": []
  }
 ],
 "metadata": {
  "kernelspec": {
   "display_name": "Python 3 (ipykernel)",
   "language": "python",
   "name": "python3"
  },
  "language_info": {
   "codemirror_mode": {
    "name": "ipython",
    "version": 3
   },
   "file_extension": ".py",
   "mimetype": "text/x-python",
   "name": "python",
   "nbconvert_exporter": "python",
   "pygments_lexer": "ipython3",
   "version": "3.11.7"
  }
 },
 "nbformat": 4,
 "nbformat_minor": 5
}
