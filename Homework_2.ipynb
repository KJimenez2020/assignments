{
 "cells": [
  {
   "cell_type": "markdown",
   "id": "25e56717-e418-401c-bb34-7ed88e101df0",
   "metadata": {},
   "source": [
    "# Homework 2"
   ]
  },
  {
   "cell_type": "markdown",
   "id": "5a1b1fc7-0fad-40ff-9da6-4ae24920376e",
   "metadata": {},
   "source": [
    "## Part 1"
   ]
  },
  {
   "cell_type": "markdown",
   "id": "c556a49b-8f13-493c-9cde-3f325bc93e4f",
   "metadata": {},
   "source": [
    "### 1)"
   ]
  },
  {
   "cell_type": "code",
   "execution_count": 1,
   "id": "06b11583-e143-43b4-95b8-439a41422fa9",
   "metadata": {},
   "outputs": [],
   "source": [
    "#creating list\n",
    "pnts = ['Mercury', 'Venus', 'Earth', 'Mars', 'Jupiter', 'Saturn', 'Uranus', 'Neptune']"
   ]
  },
  {
   "cell_type": "markdown",
   "id": "cb3547df-4fcb-4973-97dc-5ea6f47b3813",
   "metadata": {},
   "source": [
    "### 2)"
   ]
  },
  {
   "cell_type": "code",
   "execution_count": 2,
   "id": "a1d4a247-82cf-44d2-8036-fac011499a6b",
   "metadata": {},
   "outputs": [
    {
     "name": "stdout",
     "output_type": "stream",
     "text": [
      "There are 8 planets\n"
     ]
    }
   ],
   "source": [
    "#Printing the length of the planet list\n",
    "num_pnts = len(pnts)\n",
    "print(f'There are {num_pnts} planets')"
   ]
  },
  {
   "cell_type": "markdown",
   "id": "636af0e5-90ea-495d-843e-f0b5dfe46a76",
   "metadata": {},
   "source": [
    "### 3)"
   ]
  },
  {
   "cell_type": "code",
   "execution_count": 3,
   "id": "7a5c6265-2c3c-4a2e-b857-d9d92633ff76",
   "metadata": {},
   "outputs": [
    {
     "name": "stdout",
     "output_type": "stream",
     "text": [
      "The rocky planets are Mercury, Venus, Earth, Mars\n"
     ]
    }
   ],
   "source": [
    "#Taking first half of the planets\n",
    "rockies = pnts[:4]\n",
    "rockies_str = ', '.join(map(str, rockies))\n",
    "print('The rocky planets are ' + rockies_str)"
   ]
  },
  {
   "cell_type": "markdown",
   "id": "6cab1fee-a35d-4bd7-856f-7728eac189e5",
   "metadata": {},
   "source": [
    "### 4)"
   ]
  },
  {
   "cell_type": "code",
   "execution_count": 4,
   "id": "e46b28a1-c34e-4595-8564-aa272b50f3ce",
   "metadata": {},
   "outputs": [
    {
     "name": "stdout",
     "output_type": "stream",
     "text": [
      "The planets that end in s are: Venus, Mars, Uranus\n"
     ]
    }
   ],
   "source": [
    "#iterating through planet list and adding them to a new list if they end in w\n",
    "s_list = []\n",
    "for i in range(len(pnts)):\n",
    "    if pnts[i][-1] == 's':\n",
    "        s_list.append(pnts[i])\n",
    "s_list_str = ', '.join(map(str, s_list))\n",
    "print('The planets that end in s are: ' + s_list_str)"
   ]
  },
  {
   "cell_type": "markdown",
   "id": "b0d83295-8c8d-47a8-926d-d2f41e973487",
   "metadata": {},
   "source": [
    "## Part 2"
   ]
  },
  {
   "cell_type": "markdown",
   "id": "78af3338-7493-4ce6-abc7-8cda1f957d18",
   "metadata": {},
   "source": [
    "#### Problems 1-4"
   ]
  },
  {
   "cell_type": "code",
   "execution_count": 5,
   "id": "ffed02d6-21bb-4c08-b8c5-e52c26753d6a",
   "metadata": {},
   "outputs": [],
   "source": [
    "import math\n",
    "\n",
    "#degree conversion functions\n",
    "def ktoc(degk):\n",
    "    ''' Convert Kelvin to Celsius'''\n",
    "    degc = degk - 273.15\n",
    "    return degc\n",
    "\n",
    "\n",
    "def ctok(degc):\n",
    "    ''' Convert Celsius to Kelvin '''\n",
    "    degk = degc + 273.15\n",
    "    return degk\n",
    "\n",
    "#Unless told otherwise, it is assumed the temp is in Celsius\n",
    "def tof(deg, unit=None):\n",
    "    ''' Convert Celsius or Kelvin to Fahrenheit'''\n",
    "    if unit == 'K':\n",
    "        deg = ktoc(deg)\n",
    "    degf = (deg * (9/5) + 32)\n",
    "    return degf\n",
    "\n",
    "#Fahrenheit to Kelvin or Celsius\n",
    "def tock(degf, unit):\n",
    "    ''' Convert Fahrenheit to Celsius or Kelvin '''\n",
    "    #Farenheit to Celsius\n",
    "    deg = ((degf - 32) * (5/9))\n",
    "    #Celsius to Kelvin if wanted\n",
    "    if unit == 'K':\n",
    "        deg = ctok(deg)\n",
    "    return deg"
   ]
  },
  {
   "cell_type": "code",
   "execution_count": 6,
   "id": "6a5fb166-d134-401f-aca9-d0894ef1b934",
   "metadata": {},
   "outputs": [
    {
     "name": "stdout",
     "output_type": "stream",
     "text": [
      "0 degrees Celsius is 32.0 degrees Fahrenheit\n",
      "40 degrees Celsius is 104.0 degrees Fahrenheit\n",
      "300 degrees Kelvin is 80.33 degrees Fahrenheit\n",
      "85 degrees Fahrenheit is 29.44 degrees Celsius and 302.59 degrees Kelvin\n"
     ]
    }
   ],
   "source": [
    "'''testing temp conversion functions'''\n",
    "#To Fahrenheit\n",
    "test1 = (tof(0))\n",
    "print(f'0 degrees Celsius is {test1} degrees Fahrenheit')\n",
    "test2 = (tof(40, 'C'))\n",
    "print(f'40 degrees Celsius is {test2} degrees Fahrenheit')\n",
    "test3 = (tof(300, 'K'))\n",
    "print(f'300 degrees Kelvin is {test3:.2f} degrees Fahrenheit')\n",
    "\n",
    "#To Kelvin/Celsius\n",
    "test4 = tock(85, 'C')\n",
    "test5 = tock(85, 'K')\n",
    "print(f'85 degrees Fahrenheit is {test4:.2f} degrees Celsius and {test5:.2f} degrees Kelvin')\n"
   ]
  },
  {
   "cell_type": "markdown",
   "id": "1ad6d63c-b556-4490-91e5-be5d5859bafa",
   "metadata": {},
   "source": [
    "#### Problems 5-6"
   ]
  },
  {
   "cell_type": "code",
   "execution_count": 7,
   "id": "7eeebcc9-13d5-44e3-9c70-5c41c5763870",
   "metadata": {},
   "outputs": [
    {
     "name": "stdout",
     "output_type": "stream",
     "text": [
      "6 foot 3 inches is equivalent to 1.905 meters\n"
     ]
    }
   ],
   "source": [
    "#meter conversion functions\n",
    "def tomet(ft,inch):\n",
    "    '''Convert ft and inches to meters'''\n",
    "    meter = (.3048 * ft) + (0.0254 * inch)\n",
    "    return meter\n",
    "    \n",
    "test6 = tomet(6,3)\n",
    "print(f'6 foot 3 inches is equivalent to {test6:.3f} meters')\n",
    "\n",
    "def toftin(m):\n",
    "    dec = m * 3.281\n",
    "    ft = math.floor(dec)\n",
    "    rem = dec - ft\n",
    "    inch = rem * 12\n",
    "    return(ft, inch)"
   ]
  },
  {
   "cell_type": "markdown",
   "id": "b03a09f2-663a-4c88-aff3-12336c845866",
   "metadata": {},
   "source": [
    "#### Problem 7"
   ]
  },
  {
   "cell_type": "code",
   "execution_count": 8,
   "id": "202dab5b-46fd-429e-98fc-a8a29e81312a",
   "metadata": {},
   "outputs": [
    {
     "name": "stdout",
     "output_type": "stream",
     "text": [
      "2 meters is equivalent to: 6 feet and 6.74 inches\n",
      "Doing a round trip conversion on 1.5m, resulted in a final value of: 1.50m\n",
      "Doing a round trip conversion on 2m, resulted in a final value of: 2.00m\n",
      "Doing a round trip conversion on 2.2m, resulted in a final value of: 2.20m\n"
     ]
    }
   ],
   "source": [
    "'''Testing meter conversions'''\n",
    "#meters to ft & in\n",
    "test7 = toftin(2)\n",
    "print(f'2 meters is equivalent to: {test7[0]} feet and {test7[1]:.2f} inches')\n",
    "\n",
    "#Testing the round trip conversion with three inputs\n",
    "inputm1 = 1.5\n",
    "inputm2 = 2\n",
    "inputm3 = 2.2\n",
    "\n",
    "ftin1 = toftin(inputm1)\n",
    "ftin2 = toftin(inputm2)\n",
    "ftin3 = toftin(inputm3)\n",
    "\n",
    "finalm1 = tomet(ftin1[0], ftin1[1])\n",
    "finalm2 = tomet(ftin2[0], ftin2[1])\n",
    "finalm3 = tomet(ftin3[0], ftin3[1])\n",
    "\n",
    "print(f'Doing a round trip conversion on {inputm1}m, resulted in a final value of: {finalm1:.2f}m')\n",
    "print(f'Doing a round trip conversion on {inputm2}m, resulted in a final value of: {finalm2:.2f}m')\n",
    "print(f'Doing a round trip conversion on {inputm3}m, resulted in a final value of: {finalm3:.2f}m')"
   ]
  },
  {
   "cell_type": "code",
   "execution_count": null,
   "id": "dcecf4fd-87c6-4525-85bd-75c13f4f83c7",
   "metadata": {},
   "outputs": [],
   "source": []
  },
  {
   "cell_type": "code",
   "execution_count": null,
   "id": "ddebec32-f3a6-4cfa-b785-2598a981d018",
   "metadata": {},
   "outputs": [],
   "source": []
  }
 ],
 "metadata": {
  "kernelspec": {
   "display_name": "pangeo23",
   "language": "python",
   "name": "pangeo23"
  },
  "language_info": {
   "codemirror_mode": {
    "name": "ipython",
    "version": 3
   },
   "file_extension": ".py",
   "mimetype": "text/x-python",
   "name": "python",
   "nbconvert_exporter": "python",
   "pygments_lexer": "ipython3",
   "version": "3.11.6"
  }
 },
 "nbformat": 4,
 "nbformat_minor": 5
}
